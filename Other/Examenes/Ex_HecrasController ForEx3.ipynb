{
 "cells": [
  {
   "cell_type": "code",
   "execution_count": 2,
   "id": "ab538f9f-c6fe-44a1-87c0-59624a49d2ca",
   "metadata": {},
   "outputs": [],
   "source": [
    "import win32com.client"
   ]
  },
  {
   "cell_type": "markdown",
   "id": "434e090c-5724-4f4d-82c4-d442e93f6ed7",
   "metadata": {},
   "source": [
    "## Introduction to HECRAS Controller"
   ]
  },
  {
   "cell_type": "raw",
   "id": "fc4a448c-9ac9-4525-8f64-c1085b8dd567",
   "metadata": {},
   "source": [
    "HECRASController is a part of the HEC-RAS application programming interface (API). It is a collection of programming tools: Classes, functions and subroutines. Access to the HEC-RAS elements is possible because this package is compiled as the Component Object Module (COM). \n",
    "\n",
    "The controller makes it possible to open HEC-RAS projects, run simulations, read results, and store them in other specific formats. It is also possible to open HEC-RAS editing tools for manual configuration of input data. The controller also enables direct manipulation of project data, but its capabilities in this area are rather limited. "
   ]
  },
  {
   "cell_type": "markdown",
   "id": "f362e005-07bb-4811-85ad-1673456a7bde",
   "metadata": {},
   "source": [
    "## Running a steady model"
   ]
  },
  {
   "cell_type": "code",
   "execution_count": 3,
   "id": "dc0d9fc3-8143-47ed-8b06-21426ac9199d",
   "metadata": {},
   "outputs": [],
   "source": [
    "#import os\n",
    "import win32com.client\n",
    "import numpy as np\n",
    "import pandas as pd\n",
    "#from support import sc1_ShowNodes"
   ]
  },
  {
   "cell_type": "code",
   "execution_count": 4,
   "id": "cf71f52c-8f95-48fc-8631-93250bf9bb00",
   "metadata": {},
   "outputs": [],
   "source": [
    "#Add obkect mod and open function controller\n",
    "RC = win32com.client.Dispatch(\"RAS507.HECRASController\")\n",
    "RC.ShowRas()  "
   ]
  },
  {
   "cell_type": "code",
   "execution_count": 5,
   "id": "3efaf53f-b42e-4b60-a881-72cc6602230a",
   "metadata": {},
   "outputs": [],
   "source": [
    "#Open project\n",
    "RC.Project_Open(r\"C:/Users/juan.guerrero/Juan/dev/apuntes/Examenes/Data Examen 3/Ex_4/Model/test02/s7.prj\")"
   ]
  },
  {
   "cell_type": "code",
   "execution_count": 6,
   "id": "de76a794-5553-45e5-8133-b801ccb33e7c",
   "metadata": {},
   "outputs": [],
   "source": [
    "#river=RC.Geometry_GetRivers(None, None)\n",
    "#reach=RC.Geometry_GetReaches(1,None, None)\n",
    "#nodes=RC.Geometry_GetNodes(1,1,None, None, None)\n",
    "#nodes=list(nodes)"
   ]
  },
  {
   "cell_type": "code",
   "execution_count": 7,
   "id": "dd819af8-beee-4db7-804d-cf4eba50345e",
   "metadata": {},
   "outputs": [],
   "source": [
    "#Indetify geometry\n",
    "river=RC.Geometry_GetRivers()[1][0]\n",
    "reach=RC.Geometry_GetReaches(1)[2][0]\n",
    "nodes=RC.Geometry_GetNodes(1,1)[3]\n",
    "nodes=list(nodes)"
   ]
  },
  {
   "cell_type": "code",
   "execution_count": 8,
   "id": "70999ee2-54a9-4b2e-8b95-a422c11bd6ab",
   "metadata": {},
   "outputs": [],
   "source": [
    "#Identify coefficient rugosity\n",
    "Mann_chan=round(np.random.uniform(0.4,0.8),3)\n",
    "Mann_bank=round(np.random.uniform(0.4,0.8),3)"
   ]
  },
  {
   "cell_type": "code",
   "execution_count": 9,
   "id": "ce8225c1-cd33-4a65-bf3d-b9d9019169f7",
   "metadata": {},
   "outputs": [
    {
     "data": {
      "text/plain": [
       "0.456"
      ]
     },
     "execution_count": 9,
     "metadata": {},
     "output_type": "execute_result"
    }
   ],
   "source": [
    "Mann_chan\n",
    "#Mann_bank"
   ]
  },
  {
   "cell_type": "markdown",
   "id": "fe8f2cde-a71a-4c84-a1dc-5415b2798674",
   "metadata": {},
   "source": []
  },
  {
   "cell_type": "code",
   "execution_count": 10,
   "id": "8226686b-d1e1-4580-952c-5f98dced4620",
   "metadata": {},
   "outputs": [
    {
     "name": "stdout",
     "output_type": "stream",
     "text": [
      "(False, '', 'River 1         ', 'Reach 1         ', 3909.0, 0.4259999990463257, 0.4560000002384186, 'River \"\" not found')\n",
      "(False, '', 'River 1         ', 'Reach 1         ', 3665.0, 0.4259999990463257, 0.4560000002384186, 'River \"\" not found')\n",
      "(False, '', 'River 1         ', 'Reach 1         ', 3419.0, 0.4259999990463257, 0.4560000002384186, 'River \"\" not found')\n",
      "(False, '', 'River 1         ', 'Reach 1         ', 3203.0, 0.4259999990463257, 0.4560000002384186, 'River \"\" not found')\n",
      "(False, '', 'River 1         ', 'Reach 1         ', 2988.0, 0.4259999990463257, 0.4560000002384186, 'River \"\" not found')\n",
      "(False, '', 'River 1         ', 'Reach 1         ', 2753.0, 0.4259999990463257, 0.4560000002384186, 'River \"\" not found')\n",
      "(False, '', 'River 1         ', 'Reach 1         ', 2528.0, 0.4259999990463257, 0.4560000002384186, 'River \"\" not found')\n",
      "(False, '', 'River 1         ', 'Reach 1         ', 2330.0, 0.4259999990463257, 0.4560000002384186, 'River \"\" not found')\n",
      "(False, '', 'River 1         ', 'Reach 1         ', 2059.0, 0.4259999990463257, 0.4560000002384186, 'River \"\" not found')\n",
      "(False, '', 'River 1         ', 'Reach 1         ', 1857.0, 0.4259999990463257, 0.4560000002384186, 'River \"\" not found')\n",
      "(False, '', 'River 1         ', 'Reach 1         ', 1701.0, 0.4259999990463257, 0.4560000002384186, 'River \"\" not found')\n",
      "(False, '', 'River 1         ', 'Reach 1         ', 1534.0, 0.4259999990463257, 0.4560000002384186, 'River \"\" not found')\n",
      "(False, '', 'River 1         ', 'Reach 1         ', 1336.0, 0.4259999990463257, 0.4560000002384186, 'River \"\" not found')\n",
      "(False, '', 'River 1         ', 'Reach 1         ', 1155.0, 0.4259999990463257, 0.4560000002384186, 'River \"\" not found')\n",
      "(False, '', 'River 1         ', 'Reach 1         ', 922.0, 0.4259999990463257, 0.4560000002384186, 'River \"\" not found')\n",
      "(False, '', 'River 1         ', 'Reach 1         ', 709.0, 0.4259999990463257, 0.4560000002384186, 'River \"\" not found')\n",
      "(False, '', 'River 1         ', 'Reach 1         ', 513.0, 0.4259999990463257, 0.4560000002384186, 'River \"\" not found')\n",
      "(False, '', 'River 1         ', 'Reach 1         ', 339.0, 0.4259999990463257, 0.4560000002384186, 'River \"\" not found')\n",
      "(False, '', 'River 1         ', 'Reach 1         ', 100.0, 0.4259999990463257, 0.4560000002384186, 'River \"\" not found')\n"
     ]
    }
   ],
   "source": [
    "for i in range(19):\n",
    "    Var_Mann=RC.Geometry_SetMann_LChR(None,river,reach,nodes[i],Mann_bank,Mann_chan,Mann_bank)\n",
    "    print(Var_Mann)"
   ]
  },
  {
   "cell_type": "code",
   "execution_count": 11,
   "id": "8f96529f-7951-4f5f-ba0e-aadfca95f900",
   "metadata": {},
   "outputs": [],
   "source": [
    "#Execute model\n",
    "Simulation=RC.Compute_CurrentPlan(None,None,True)"
   ]
  },
  {
   "cell_type": "code",
   "execution_count": 12,
   "id": "4d3e31a9-cf1b-4bce-b546-188dac3a335a",
   "metadata": {},
   "outputs": [],
   "source": [
    "#Extract results\n",
    "water_list,flow_list,veloc_list =[],[],[]"
   ]
  },
  {
   "cell_type": "code",
   "execution_count": 13,
   "id": "8ee575b9-f2a5-4a57-be36-11cc75b0843d",
   "metadata": {},
   "outputs": [],
   "source": [
    "for i in range(19):\n",
    "    water=RC.Output_NodeOutput(1,1,i+1,None,1,2)[0]\n",
    "    flow=RC.Output_NodeOutput(1,1,i+1,None,1,9)[0]\n",
    "    veloc=RC.Output_NodeOutput(1,1,i+1,None,1,23)[0]\n",
    "    water_list.append(water),flow_list.append(flow),veloc_list.append(veloc)"
   ]
  },
  {
   "cell_type": "code",
   "execution_count": 14,
   "id": "bd53e66d-1cf5-47e1-ba5b-96ffa551fae3",
   "metadata": {},
   "outputs": [
    {
     "data": {
      "text/plain": [
       "[2447.453125,\n",
       " 2447.44580078125,\n",
       " 2447.4453125,\n",
       " 2447.445068359375,\n",
       " 2447.431396484375,\n",
       " 2447.433837890625,\n",
       " 2447.433837890625,\n",
       " 2446.689208984375,\n",
       " 2444.608642578125,\n",
       " 2444.580810546875,\n",
       " 2443.955810546875,\n",
       " 2442.049072265625,\n",
       " 2441.9326171875,\n",
       " 2441.4521484375,\n",
       " 2441.01416015625,\n",
       " 2440.878662109375,\n",
       " 2440.78564453125,\n",
       " 2440.596923828125,\n",
       " 2440.277587890625]"
      ]
     },
     "execution_count": 14,
     "metadata": {},
     "output_type": "execute_result"
    }
   ],
   "source": [
    "water_list"
   ]
  },
  {
   "cell_type": "code",
   "execution_count": 15,
   "id": "0e142408-1a74-4440-b5f3-4f77edb3ddb6",
   "metadata": {},
   "outputs": [
    {
     "data": {
      "text/html": [
       "<div>\n",
       "<style scoped>\n",
       "    .dataframe tbody tr th:only-of-type {\n",
       "        vertical-align: middle;\n",
       "    }\n",
       "\n",
       "    .dataframe tbody tr th {\n",
       "        vertical-align: top;\n",
       "    }\n",
       "\n",
       "    .dataframe thead th {\n",
       "        text-align: right;\n",
       "    }\n",
       "</style>\n",
       "<table border=\"1\" class=\"dataframe\">\n",
       "  <thead>\n",
       "    <tr style=\"text-align: right;\">\n",
       "      <th></th>\n",
       "      <th>Water Surface Elevation(m)</th>\n",
       "      <th>Flow(m³/s)</th>\n",
       "      <th>Velocities(m/s)</th>\n",
       "    </tr>\n",
       "    <tr>\n",
       "      <th>Cross Sections</th>\n",
       "      <th></th>\n",
       "      <th></th>\n",
       "      <th></th>\n",
       "    </tr>\n",
       "  </thead>\n",
       "  <tbody>\n",
       "    <tr>\n",
       "      <th>3909</th>\n",
       "      <td>2447.453125</td>\n",
       "      <td>49.999992</td>\n",
       "      <td>0.177281</td>\n",
       "    </tr>\n",
       "    <tr>\n",
       "      <th>3665</th>\n",
       "      <td>2447.445801</td>\n",
       "      <td>49.999992</td>\n",
       "      <td>0.354882</td>\n",
       "    </tr>\n",
       "    <tr>\n",
       "      <th>3419</th>\n",
       "      <td>2447.445312</td>\n",
       "      <td>49.999992</td>\n",
       "      <td>0.236047</td>\n",
       "    </tr>\n",
       "    <tr>\n",
       "      <th>3203</th>\n",
       "      <td>2447.445068</td>\n",
       "      <td>49.999992</td>\n",
       "      <td>0.158919</td>\n",
       "    </tr>\n",
       "    <tr>\n",
       "      <th>2988</th>\n",
       "      <td>2447.431396</td>\n",
       "      <td>49.999992</td>\n",
       "      <td>0.484284</td>\n",
       "    </tr>\n",
       "    <tr>\n",
       "      <th>2753</th>\n",
       "      <td>2447.433838</td>\n",
       "      <td>49.999992</td>\n",
       "      <td>0.242952</td>\n",
       "    </tr>\n",
       "    <tr>\n",
       "      <th>2528</th>\n",
       "      <td>2447.433838</td>\n",
       "      <td>49.999992</td>\n",
       "      <td>0.159632</td>\n",
       "    </tr>\n",
       "    <tr>\n",
       "      <th>2330</th>\n",
       "      <td>2446.689209</td>\n",
       "      <td>49.999992</td>\n",
       "      <td>3.640512</td>\n",
       "    </tr>\n",
       "    <tr>\n",
       "      <th>2059</th>\n",
       "      <td>2444.608643</td>\n",
       "      <td>49.999992</td>\n",
       "      <td>0.428950</td>\n",
       "    </tr>\n",
       "    <tr>\n",
       "      <th>1857</th>\n",
       "      <td>2444.580811</td>\n",
       "      <td>49.999992</td>\n",
       "      <td>0.583173</td>\n",
       "    </tr>\n",
       "    <tr>\n",
       "      <th>1701</th>\n",
       "      <td>2443.955811</td>\n",
       "      <td>49.999992</td>\n",
       "      <td>3.213779</td>\n",
       "    </tr>\n",
       "    <tr>\n",
       "      <th>1534</th>\n",
       "      <td>2442.049072</td>\n",
       "      <td>49.999992</td>\n",
       "      <td>0.767301</td>\n",
       "    </tr>\n",
       "    <tr>\n",
       "      <th>1336</th>\n",
       "      <td>2441.932617</td>\n",
       "      <td>49.999992</td>\n",
       "      <td>0.913037</td>\n",
       "    </tr>\n",
       "    <tr>\n",
       "      <th>1155</th>\n",
       "      <td>2441.452148</td>\n",
       "      <td>49.999992</td>\n",
       "      <td>2.036469</td>\n",
       "    </tr>\n",
       "    <tr>\n",
       "      <th>922</th>\n",
       "      <td>2441.014160</td>\n",
       "      <td>49.999992</td>\n",
       "      <td>1.120728</td>\n",
       "    </tr>\n",
       "    <tr>\n",
       "      <th>709</th>\n",
       "      <td>2440.878662</td>\n",
       "      <td>49.999992</td>\n",
       "      <td>0.793099</td>\n",
       "    </tr>\n",
       "    <tr>\n",
       "      <th>513</th>\n",
       "      <td>2440.785645</td>\n",
       "      <td>49.999992</td>\n",
       "      <td>0.675997</td>\n",
       "    </tr>\n",
       "    <tr>\n",
       "      <th>339</th>\n",
       "      <td>2440.596924</td>\n",
       "      <td>49.999992</td>\n",
       "      <td>1.150512</td>\n",
       "    </tr>\n",
       "    <tr>\n",
       "      <th>100</th>\n",
       "      <td>2440.277588</td>\n",
       "      <td>49.999992</td>\n",
       "      <td>1.112671</td>\n",
       "    </tr>\n",
       "  </tbody>\n",
       "</table>\n",
       "</div>"
      ],
      "text/plain": [
       "                Water Surface Elevation(m)  Flow(m³/s)  Velocities(m/s)\n",
       "Cross Sections                                                         \n",
       "3909                           2447.453125   49.999992         0.177281\n",
       "3665                           2447.445801   49.999992         0.354882\n",
       "3419                           2447.445312   49.999992         0.236047\n",
       "3203                           2447.445068   49.999992         0.158919\n",
       "2988                           2447.431396   49.999992         0.484284\n",
       "2753                           2447.433838   49.999992         0.242952\n",
       "2528                           2447.433838   49.999992         0.159632\n",
       "2330                           2446.689209   49.999992         3.640512\n",
       "2059                           2444.608643   49.999992         0.428950\n",
       "1857                           2444.580811   49.999992         0.583173\n",
       "1701                           2443.955811   49.999992         3.213779\n",
       "1534                           2442.049072   49.999992         0.767301\n",
       "1336                           2441.932617   49.999992         0.913037\n",
       "1155                           2441.452148   49.999992         2.036469\n",
       "922                            2441.014160   49.999992         1.120728\n",
       "709                            2440.878662   49.999992         0.793099\n",
       "513                            2440.785645   49.999992         0.675997\n",
       "339                            2440.596924   49.999992         1.150512\n",
       "100                            2440.277588   49.999992         1.112671"
      ]
     },
     "execution_count": 15,
     "metadata": {},
     "output_type": "execute_result"
    }
   ],
   "source": [
    "#Display results of water elevation, flow and velocity\n",
    "output={'Cross Sections':nodes,'Water Surface Elevation(m)':water_list,'Flow(m³/s)':flow_list,'Velocities(m/s)':veloc_list}\n",
    "df=pd.DataFrame(output)\n",
    "df.set_index('Cross Sections')"
   ]
  },
  {
   "cell_type": "code",
   "execution_count": 16,
   "id": "7c166bb2-8433-4fd6-b366-4153233a1280",
   "metadata": {},
   "outputs": [],
   "source": [
    "#Import plot libraries\n",
    "import matplotlib\n",
    "import matplotlib.pyplot as plt"
   ]
  },
  {
   "cell_type": "code",
   "execution_count": 17,
   "id": "7275919d-ea89-4952-9beb-5c59d3862026",
   "metadata": {},
   "outputs": [
    {
     "data": {
      "text/plain": [
       "<matplotlib.legend.Legend at 0x2395aca7fb0>"
      ]
     },
     "execution_count": 17,
     "metadata": {},
     "output_type": "execute_result"
    },
    {
     "data": {
      "image/png": "[encoded data removed]",
      "text/plain": [
       "<Figure size 1200x500 with 1 Axes>"
      ]
     },
     "metadata": {},
     "output_type": "display_data"
    }
   ],
   "source": [
    "#Plot results\n",
    "#print(\"Water surface elevation= \", water_list)\n",
    "plt.figure(figsize=(12,5))\n",
    "plt.plot(water_list, linestyle=\"--\", color =\"b\", label = \"Water surface elevation(m)\")\n",
    "plt.grid(True)\n",
    "plt.xlabel('Progressive X(m)')\n",
    "plt.ylabel('Water surface(m)')\n",
    "plt.legend(loc=\"best\")"
   ]
  },
  {
   "cell_type": "code",
   "execution_count": 18,
   "id": "e535b9e9-ef2e-41ea-8ce6-2a083a3f606e",
   "metadata": {},
   "outputs": [
    {
     "data": {
      "text/plain": [
       "<matplotlib.legend.Legend at 0x2395ca5fe90>"
      ]
     },
     "execution_count": 18,
     "metadata": {},
     "output_type": "execute_result"
    },
    {
     "data": {
      "image/png": "[encoded data removed]",
      "text/plain": [
       "<Figure size 1200x500 with 1 Axes>"
      ]
     },
     "metadata": {},
     "output_type": "display_data"
    }
   ],
   "source": [
    "#Plot results\n",
    "plt.figure(figsize=(12,5))\n",
    "plt.plot(veloc_list, linestyle=\"--\", color =\"b\", label = \"Velocity(m/s)\")\n",
    "plt.grid(True)\n",
    "plt.xlabel('Progressive X(m)')\n",
    "plt.ylabel('Velocity(m/s)')\n",
    "plt.legend(loc=\"best\")"
   ]
  },
  {
   "cell_type": "code",
   "execution_count": null,
   "id": "e39d66bb-f6bd-46d5-81bc-e003a83a0163",
   "metadata": {},
   "outputs": [],
   "source": []
  },
  {
   "cell_type": "code",
   "execution_count": null,
   "id": "5199e016-f590-4f05-85e2-25e5caf2f37f",
   "metadata": {},
   "outputs": [],
   "source": []
  }
 ],
 "metadata": {
  "kernelspec": {
   "display_name": ".venv",
   "language": "python",
   "name": "python3"
  },
  "language_info": {
   "codemirror_mode": {
    "name": "ipython",
    "version": 3
   },
   "file_extension": ".py",
   "mimetype": "text/x-python",
   "name": "python",
   "nbconvert_exporter": "python",
   "pygments_lexer": "ipython3",
   "version": "3.12.8"
  }
 },
 "nbformat": 4,
 "nbformat_minor": 5
}
