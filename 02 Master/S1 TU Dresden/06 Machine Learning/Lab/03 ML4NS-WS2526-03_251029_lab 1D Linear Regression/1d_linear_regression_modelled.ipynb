{
 "cells": [
  {
   "cell_type": "markdown",
   "id": "983d73d1",
   "metadata": {},
   "source": [
    "# 1D linear regression plots"
   ]
  },
  {
   "cell_type": "code",
   "execution_count": null,
   "id": "d9d0c200",
   "metadata": {
    "lines_to_next_cell": 2
   },
   "outputs": [],
   "source": [
    "import matplotlib.pyplot as plt\n",
    "import numpy as np\n",
    "\n",
    "np.random.seed(42)"
   ]
  },
  {
   "cell_type": "markdown",
   "id": "82d5e5a2",
   "metadata": {},
   "source": [
    "Let's generate some fixed values for $x$."
   ]
  },
  {
   "cell_type": "code",
   "execution_count": null,
   "id": "fb05f9b1",
   "metadata": {},
   "outputs": [],
   "source": [
    "nsamples=20\n",
    "xmax = 100\n",
    "step = xmax // nsamples\n",
    "x = np.arange(0,xmax,step)\n",
    "x"
   ]
  },
  {
   "cell_type": "markdown",
   "id": "05b1c1e7",
   "metadata": {},
   "source": [
    "For the sake of the argument, we generate two random values for $\\beta$."
   ]
  },
  {
   "cell_type": "code",
   "execution_count": null,
   "id": "a1911e43",
   "metadata": {},
   "outputs": [],
   "source": [
    "beta = np.random.uniform(0,20, size=2)\n",
    "print(\", \".join([f\"beta_{it} = \"+str(beta[it]) for it in range(2)]))"
   ]
  },
  {
   "cell_type": "markdown",
   "id": "13e5699e",
   "metadata": {},
   "source": [
    "We now also need our random variable $\\varepsilon$. We use the `randn` method which returns samples from a normal distribution $\\mathcal{N}(0,1)$."
   ]
  },
  {
   "cell_type": "code",
   "execution_count": null,
   "id": "0b3484d4",
   "metadata": {},
   "outputs": [],
   "source": [
    "sigma_true = 50\n",
    "epsilon = np.random.randn(nsamples)*sigma_true\n",
    "epsilon"
   ]
  },
  {
   "cell_type": "markdown",
   "id": "80f2a133",
   "metadata": {},
   "source": [
    "Finally, we build the data generating process and calculate our observations $y$."
   ]
  },
  {
   "cell_type": "code",
   "execution_count": null,
   "id": "9953a95e",
   "metadata": {},
   "outputs": [],
   "source": [
    "y = beta[0] + x*beta[1] + epsilon\n",
    "y"
   ]
  },
  {
   "cell_type": "markdown",
   "id": "ed5ee09e",
   "metadata": {},
   "source": [
    "## Estimate $\\hat{\\beta}_0$ and $\\hat{\\beta}_1$\n",
    "\n",
    "Use the formulae from the lecture to calculate the two estimators $\\hat{\\beta}_0$ and $\\hat{\\beta}_1$."
   ]
  },
  {
   "cell_type": "code",
   "execution_count": null,
   "id": "2b5a88a8",
   "metadata": {},
   "outputs": [],
   "source": [
    "bar_x = np.mean(x)\n",
    "bar_y = np.mean(y)\n",
    "\n",
    "beta_1_hat = np.sum((x - bar_x)*(y - bar_y))/np.sum((x - bar_x)**2)\n",
    "beta_0_hat = bar_y - beta_1_hat*bar_x\n",
    "\n",
    "print(f\"from model: beta_0_hat = {beta_0_hat} and beta_1_hat = {beta_1_hat}\")"
   ]
  },
  {
   "cell_type": "markdown",
   "id": "815939de",
   "metadata": {},
   "source": [
    "## Estimate $\\hat{\\beta}_0$ and $\\hat{\\beta}_1$ using scikit-learn\n",
    "\n",
    "See here for details: https://scikit-learn.org/stable/modules/generated/sklearn.linear_model.LinearRegression.html"
   ]
  },
  {
   "cell_type": "code",
   "execution_count": null,
   "id": "58b481be",
   "metadata": {},
   "outputs": [],
   "source": [
    "...\n",
    "\n",
    "X = = ...\n",
    "linear_model = = ...\n",
    "\n",
    "betas = = ...\n",
    "print(f\"from sklearn: beta_0_hat = {betas[0]} and beta_1_hat = {betas[1]}\")"
   ]
  },
  {
   "cell_type": "code",
   "execution_count": null,
   "id": "182473a2",
   "metadata": {},
   "outputs": [],
   "source": [
    "fig, ax = plt.subplots(1,1)\n",
    "ax.scatter(x,y,label=\"data\")\n",
    "ax.plot([0,x[-1]],[beta[0],beta[0]+beta[1]*x[-1]],'--',label=\"data generating process\",color=\"grey\")\n",
    "ax.plot([0,x[-1]],[betas[0],betas[0]+betas[1]*x[-1]],'--',label=\"sklearn prediction\",color=\"orange\")\n",
    "ax.plot([0,x[-1]],[beta_0_hat,beta_0_hat+beta_1_hat*x[-1]],'--',label=\"LS prediction\",color=\"green\")\n",
    "ax.legend()\n",
    "ax.set_xlabel(\"x\")\n",
    "ax.set_ylabel(\"y\")\n",
    "\n",
    "fig.savefig(\"1n_regression_fit.pdf\")\n",
    "fig.savefig(\"1n_regression_fit.svg\")"
   ]
  }
 ],
 "metadata": {
  "kernelspec": {
   "display_name": "Python 3 (ipykernel)",
   "language": "python",
   "name": "python3"
  }
 },
 "nbformat": 4,
 "nbformat_minor": 5
}
