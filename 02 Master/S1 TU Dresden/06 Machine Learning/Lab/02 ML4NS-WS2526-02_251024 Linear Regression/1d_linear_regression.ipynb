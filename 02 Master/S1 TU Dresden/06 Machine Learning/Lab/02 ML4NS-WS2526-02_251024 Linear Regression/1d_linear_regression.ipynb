{
 "cells": [
  {
   "cell_type": "markdown",
   "id": "69a12d88",
   "metadata": {},
   "source": [
    "# 1D linear regression plots"
   ]
  },
  {
   "cell_type": "code",
   "execution_count": null,
   "id": "dc879a29",
   "metadata": {
    "lines_to_next_cell": 2
   },
   "outputs": [],
   "source": [
    "import matplotlib.pyplot as plt\n",
    "import numpy as np\n",
    "\n",
    "np.random.seed(42) #for reproducibility"
   ]
  },
  {
   "cell_type": "markdown",
   "id": "45cf8796",
   "metadata": {},
   "source": [
    "Let's generate some fixed values for $x$."
   ]
  },
  {
   "cell_type": "code",
   "execution_count": null,
   "id": "f2202981",
   "metadata": {},
   "outputs": [],
   "source": [
    "nsamples=20\n",
    "xmax = 100\n",
    "step = xmax // nsamples\n",
    "x = np.arange(0,xmax,step)\n",
    "x"
   ]
  },
  {
   "cell_type": "markdown",
   "id": "2af55d6f",
   "metadata": {},
   "source": [
    "For the sake of the argument, we generate two random values for $\\beta$."
   ]
  },
  {
   "cell_type": "code",
   "execution_count": null,
   "id": "7c875768",
   "metadata": {},
   "outputs": [],
   "source": [
    "beta = np.random.uniform(0,20, size=2)\n",
    "print(\", \".join([f\"beta_{it} = \"+str(beta[it]) for it in range(2)]))"
   ]
  },
  {
   "cell_type": "markdown",
   "id": "bc40d156",
   "metadata": {},
   "source": [
    "We now also need our random variable $\\varepsilon$. We use the `randn` method which returns samples from a normal distribution $\\mathcal{N}(0,1)$."
   ]
  },
  {
   "cell_type": "code",
   "execution_count": null,
   "id": "f61820b6",
   "metadata": {},
   "outputs": [],
   "source": [
    "sigma_true = 50\n",
    "epsilon = np.random.randn(nsamples)*sigma_true\n",
    "epsilon"
   ]
  },
  {
   "cell_type": "markdown",
   "id": "77347521",
   "metadata": {},
   "source": [
    "Finally, we build the data generating process and calculate our observations $y$."
   ]
  },
  {
   "cell_type": "code",
   "execution_count": null,
   "id": "d1b8e36b",
   "metadata": {},
   "outputs": [],
   "source": [
    "y = ...\n",
    "y"
   ]
  },
  {
   "cell_type": "code",
   "execution_count": null,
   "id": "b6a94be1",
   "metadata": {},
   "outputs": [],
   "source": [
    "fig, ax = plt.subplots(1,1)\n",
    "ax.scatter(x,y,label=\"data\")\n",
    "ax.plot([0,x[-1]],[beta[0],beta[0]+beta[1]*x[-1]],'--',label=\"data generating process\",color=\"grey\")\n",
    "ax.legend()\n",
    "ax.set_xlabel(\"x\")\n",
    "ax.set_ylabel(\"y\")\n",
    "\n",
    "fig.savefig(\"1n_regression.pdf\")\n",
    "fig.savefig(\"1n_regression.svg\")"
   ]
  },
  {
   "cell_type": "markdown",
   "id": "02f432f8",
   "metadata": {},
   "source": [
    "## Estimate $\\hat{\\beta}_0$ and $\\hat{\\beta}_1$\n",
    "\n",
    "Use the formulae from the lecture to calculate the two estimators $\\hat{\\beta}_0$ and $\\hat{\\beta}_1$."
   ]
  },
  {
   "cell_type": "code",
   "execution_count": null,
   "id": "c7f282a7",
   "metadata": {},
   "outputs": [],
   "source": [
    "bar_x = np.mean(x)\n",
    "bar_y = np.mean(y)\n",
    "\n",
    "beta_1_hat = ...\n",
    "beta_0_hat = ...\n",
    "\n",
    "print(f\"beta_0_hat = {beta_0_hat} and beta_1_hat = {beta_1_hat}\")"
   ]
  },
  {
   "cell_type": "code",
   "execution_count": null,
   "id": "f49fb8b8",
   "metadata": {},
   "outputs": [],
   "source": [
    "fig, ax = plt.subplots(1,1)\n",
    "ax.scatter(x,y,label=\"data\")\n",
    "ax.plot([0,x[-1]],[beta[0],beta[0]+beta[1]*x[-1]],'--',label=\"data generating process\",color=\"grey\")\n",
    "ax.plot([0,x[-1]],[beta_0_hat,beta_0_hat+beta_1_hat*x[-1]],'--',label=\"LS prediction\",color=\"green\")\n",
    "ax.legend()\n",
    "ax.set_xlabel(\"x\")\n",
    "ax.set_ylabel(\"y\")\n",
    "\n",
    "fig.savefig(\"1n_regression_hat.pdf\")\n",
    "fig.savefig(\"1n_regression_hat.svg\")"
   ]
  },
  {
   "cell_type": "markdown",
   "id": "72905b0b",
   "metadata": {},
   "source": [
    "## variances of $\\hat{\\beta}_0$ and $\\hat{\\beta}_1$\n",
    "\n",
    "Use the formulae from the lecture to calculate the two estimators $\\hat{\\beta}_0$ and $\\hat{\\beta}_1$."
   ]
  },
  {
   "cell_type": "code",
   "execution_count": null,
   "id": "2a036a48",
   "metadata": {},
   "outputs": [],
   "source": [
    "beta_0_var = ...\n",
    "beta_1_var = ...\n",
    "\n",
    "print(f\"beta_0_hat = {beta_0_hat} +/- {np.sqrt(beta_0_var)}, true value beta_0 = {beta[0]}\")\n",
    "print(f\"beta_1_hat = {beta_1_hat} +/- {np.sqrt(beta_1_var)}, true value beta_1 = {beta[1]}\")"
   ]
  },
  {
   "cell_type": "code",
   "execution_count": null,
   "id": "bddbf342",
   "metadata": {},
   "outputs": [],
   "source": [
    "fig, ax = plt.subplots(1,1)\n",
    "ax.plot([0,x[-1]],[beta[0],beta[0]+beta[1]*x[-1]],'--',label=\"data generating process\",color=\"grey\")\n",
    "ax.plot([0,x[-1]],[beta_0_hat,beta_0_hat+beta_1_hat*x[-1]],'--',label=\"LS prediction\",color=\"green\")\n",
    "\n",
    "upper = (beta_0_hat+np.sqrt(beta_0_var))+(beta_1_hat+np.sqrt(beta_1_var))*x\n",
    "lower = (beta_0_hat-np.sqrt(beta_0_var))+(beta_1_hat-np.sqrt(beta_1_var))*x\n",
    "\n",
    "ax.fill_between(x,upper,lower,label=\"+/- sigma\")\n",
    "ax.scatter(x,y,label=\"data\")\n",
    "\n",
    "ax.legend()\n",
    "ax.set_xlabel(\"x\")\n",
    "ax.set_ylabel(\"y\")\n",
    "\n",
    "fig.savefig(\"1n_regression_hat_pm_std.pdf\")\n",
    "fig.savefig(\"1n_regression_hat_pm_std.svg\")"
   ]
  },
  {
   "cell_type": "code",
   "execution_count": null,
   "id": "f5347667",
   "metadata": {},
   "outputs": [],
   "source": []
  }
 ],
 "metadata": {
  "kernelspec": {
   "display_name": "Python 3 (ipykernel)",
   "language": "python",
   "name": "python3"
  }
 },
 "nbformat": 4,
 "nbformat_minor": 5
}
