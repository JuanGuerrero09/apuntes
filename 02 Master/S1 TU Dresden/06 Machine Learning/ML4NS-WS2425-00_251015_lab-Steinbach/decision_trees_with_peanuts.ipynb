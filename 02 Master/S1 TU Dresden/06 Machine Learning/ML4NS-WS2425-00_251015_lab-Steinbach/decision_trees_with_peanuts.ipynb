{
 "cells": [
  {
   "cell_type": "markdown",
   "id": "f3d138b8",
   "metadata": {
    "id": "NcnlBqxm_U6B"
   },
   "source": [
    "## Exercise 1: Diving into Classification\n",
    "\n",
    "In this notebook, we want to dive into a practical application for machine learning. For this we rely on the `scikit-learn` (`sklearn` for short) library as well as pandas for data handling. The onset is very simple. You are invested for a party and promise to help with the preparations. As you are decorating the buffet with snacks, you mix a bowl of peanuts, walnuts and other chocolate covered candy. Once you are done, the hosts inform you that they expecting guests which are allergic to peanuts. You are now tasked to filter out the peanuts from the bowl of snacks. The dataset, `peanuts.csv` below presents the measurements taken on the bowl of dried snacks. Let's use classification to automate the task."
   ]
  },
  {
   "cell_type": "code",
   "execution_count": null,
   "id": "2d924e84",
   "metadata": {
    "id": "eYiTAzitOAUI"
   },
   "outputs": [],
   "source": [
    "import numpy as np\n",
    "import matplotlib.pyplot as plt\n",
    "import pandas as pd\n",
    "from sklearn.tree import DecisionTreeClassifier, plot_tree\n",
    "from sklearn.model_selection import train_test_split"
   ]
  },
  {
   "cell_type": "code",
   "execution_count": null,
   "id": "65d2afff",
   "metadata": {
    "id": "jRUZSx71h12i"
   },
   "outputs": [],
   "source": [
    "# the data was obtained from https://zenodo.org/records/10014609\n",
    "df = pd.read_csv(\"peanuts.csv\")"
   ]
  },
  {
   "cell_type": "code",
   "execution_count": null,
   "id": "38d91bb1",
   "metadata": {},
   "outputs": [
    {
     "name": "stdout",
     "output_type": "stream",
     "text": [
      "(100, 5) \n",
      " color      int64\n",
      "shape      int64\n",
      "height     int64\n",
      "width      int64\n",
      "label     object\n",
      "dtype: object\n"
     ]
    }
   ],
   "source": [
    "# let's inspect the data\n",
    "print(df.shape, \"\\n\", df.dtypes)"
   ]
  },
  {
   "cell_type": "markdown",
   "id": "5d690905",
   "metadata": {},
   "source": [
    "In the above, we see that most data is detected as `int64`, so this referes to integer numbers. The label however is recognized as object. To convert it into something meaningful, we need to help pandas a bit."
   ]
  },
  {
   "cell_type": "code",
   "execution_count": null,
   "id": "ca65687d",
   "metadata": {},
   "outputs": [
    {
     "data": {
      "text/plain": [
       "color        int64\n",
       "shape        int64\n",
       "height       int64\n",
       "width        int64\n",
       "label     category\n",
       "dtype: object"
      ]
     },
     "execution_count": 6,
     "metadata": {},
     "output_type": "execute_result"
    }
   ],
   "source": [
    "df.label = df.label.astype(\"category\")\n",
    "df.dtypes"
   ]
  },
  {
   "cell_type": "code",
   "execution_count": null,
   "id": "c578b38e",
   "metadata": {},
   "outputs": [
    {
     "name": "stdout",
     "output_type": "stream",
     "text": [
      "<class 'pandas.core.frame.DataFrame'>\n",
      "RangeIndex: 100 entries, 0 to 99\n",
      "Data columns (total 5 columns):\n",
      " #   Column  Non-Null Count  Dtype   \n",
      "---  ------  --------------  -----   \n",
      " 0   color   100 non-null    int64   \n",
      " 1   shape   100 non-null    int64   \n",
      " 2   height  100 non-null    int64   \n",
      " 3   width   100 non-null    int64   \n",
      " 4   label   100 non-null    category\n",
      "dtypes: category(1), int64(4)\n",
      "memory usage: 3.5 KB\n"
     ]
    }
   ],
   "source": [
    "df.info()"
   ]
  },
  {
   "cell_type": "markdown",
   "id": "d15a4f6c",
   "metadata": {},
   "source": [
    "## Prepare data for training"
   ]
  },
  {
   "cell_type": "code",
   "execution_count": null,
   "id": "6fe463ad",
   "metadata": {},
   "outputs": [
    {
     "name": "stdout",
     "output_type": "stream",
     "text": [
      "input data X is available as: (100, 4) int64\n",
      "label data y is available as: (100,) category\n"
     ]
    }
   ],
   "source": [
    "X, y = df[[\"color\",\"shape\", \"height\",\"width\"]].to_numpy(), df[\"label\"]\n",
    "print(\"input data X is available as:\", X.shape, X.dtype)\n",
    "print(\"label data y is available as:\", y.shape, y.dtype)"
   ]
  },
  {
   "cell_type": "code",
   "execution_count": null,
   "id": "5e36a611",
   "metadata": {
    "colab": {
     "base_uri": "https://localhost:8080/"
    },
    "id": "qDIAYhcQ_NwG",
    "outputId": "6bd944ed-259d-4d4d-b46b-fcac805f7739"
   },
   "outputs": [],
   "source": [
    "# train_test_split is a super helpful function in sklearn\n",
    "X_train, X_test, y_train, y_test = train_test_split(X, y, test_size=0.2)"
   ]
  },
  {
   "cell_type": "code",
   "execution_count": null,
   "id": "56260403",
   "metadata": {},
   "outputs": [],
   "source": [
    "# inspect the data\n",
    "X_test, y_test"
   ]
  },
  {
   "cell_type": "markdown",
   "id": "779f733f",
   "metadata": {},
   "source": [
    "## Create the Tree and fit it"
   ]
  },
  {
   "cell_type": "code",
   "execution_count": null,
   "id": "56c1583e",
   "metadata": {
    "id": "Zbx1bLc6_Ogj"
   },
   "outputs": [],
   "source": [
    "#see the docs for details https://scikit-learn.org/stable/modules/generated/sklearn.tree.DecisionTreeClassifier.html#sklearn.tree.DecisionTreeClassifier\n",
    "classifier_tree = DecisionTreeClassifier() \n",
    "classifier_tree = classifier_tree.fit(X_train, y_train)"
   ]
  },
  {
   "cell_type": "markdown",
   "id": "a333006e",
   "metadata": {},
   "source": [
    "## plot the fitted tree"
   ]
  },
  {
   "cell_type": "code",
   "execution_count": null,
   "id": "9784b795",
   "metadata": {
    "colab": {
     "base_uri": "https://localhost:8080/",
     "height": 863
    },
    "id": "PhBkmmiF_UPG",
    "outputId": "376dc275-eb6a-4848-fab0-e4e8cd3d8acf"
   },
   "outputs": [],
   "source": [
    "plt.figure(figsize=(12,12)) #To control the fig size, otherwise is very small\n",
    "plot_tree(classifier_tree)"
   ]
  },
  {
   "cell_type": "markdown",
   "id": "16be7071",
   "metadata": {},
   "source": [
    "## Calculate the Performance Metric"
   ]
  },
  {
   "cell_type": "code",
   "execution_count": null,
   "id": "6313c11f",
   "metadata": {
    "colab": {
     "base_uri": "https://localhost:8080/"
    },
    "id": "Xsf6PPtg_ctU",
    "outputId": "838053a8-eb6d-4a27-8e7a-f986521d06d7"
   },
   "outputs": [],
   "source": [
    "y_predict = classifier_tree.predict(X_test)\n",
    "acc = 100*np.mean((y_predict==y_test))\n",
    "\n",
    "print(f\"accuracy is {acc:2.2f} %\")"
   ]
  },
  {
   "cell_type": "code",
   "execution_count": null,
   "id": "696123c6",
   "metadata": {},
   "outputs": [],
   "source": []
  },
  {
   "cell_type": "code",
   "execution_count": null,
   "id": "457fd94b",
   "metadata": {},
   "outputs": [],
   "source": [
    "cm =\n",
    "\n",
    "disp = "
   ]
  }
 ],
 "metadata": {
  "kernelspec": {
   "display_name": "ml4ns-ws2425-00-251015-lab-steinbach",
   "language": "python",
   "name": "python3"
  },
  "language_info": {
   "codemirror_mode": {
    "name": "ipython",
    "version": 3
   },
   "file_extension": ".py",
   "mimetype": "text/x-python",
   "name": "python",
   "nbconvert_exporter": "python",
   "pygments_lexer": "ipython3",
   "version": "3.12.9"
  }
 },
 "nbformat": 4,
 "nbformat_minor": 5
}
