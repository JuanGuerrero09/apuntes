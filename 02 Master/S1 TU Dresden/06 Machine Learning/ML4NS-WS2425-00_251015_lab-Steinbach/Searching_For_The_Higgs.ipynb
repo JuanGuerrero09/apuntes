{
 "cells": [
  {
   "cell_type": "markdown",
   "metadata": {
    "id": "NcnlBqxm_U6B"
   },
   "source": [
    "# Exercise 2: Finding the Higgs Boson\n",
    "\n",
    "This is an fill-in-the-blanks exercise. Go through the notebook and replace all occurances of `...` with the appropriate code."
   ]
  },
  {
   "cell_type": "code",
   "execution_count": null,
   "metadata": {
    "colab": {
     "base_uri": "https://localhost:8080/"
    },
    "id": "JR6tpFlfyB9p",
    "outputId": "d629b7a5-6832-4c4a-cf1a-f7450c9bf8ad"
   },
   "outputs": [],
   "source": [
    "# the following lines will only work on Linux and Mac\n",
    "! wget \"https://github.com/astrocronopio/datasets/raw/main/higgs_dataset.zip\"\n",
    "! unzip -qq -o higgs_dataset.zip"
   ]
  },
  {
   "cell_type": "markdown",
   "metadata": {
    "id": "qqu9M_YOSWFu"
   },
   "source": [
    "# Importing required libraries"
   ]
  },
  {
   "cell_type": "code",
   "execution_count": null,
   "metadata": {
    "id": "VoGDJb_DSWFy"
   },
   "outputs": [],
   "source": [
    "import os\n",
    "import numpy as np\n",
    "import pandas as pd\n",
    "import seaborn as sns\n",
    "\n",
    "from sklearn.tree import DecisionTreeClassifier, plot_tree\n",
    "from sklearn.model_selection import train_test_split\n",
    "import matplotlib.pyplot as plt"
   ]
  },
  {
   "cell_type": "code",
   "execution_count": null,
   "metadata": {
    "colab": {
     "base_uri": "https://localhost:8080/",
     "height": 325
    },
    "id": "MPvvHodXySMB",
    "outputId": "da006524-b78c-41ea-c831-af25f8d6b380"
   },
   "outputs": [],
   "source": [
    "data = pd.read_csv(\"./train.csv\",na_values=\"?\")\n",
    "test = pd.read_csv(\"./test.csv\", na_values=\"?\")\n",
    "print(\"Train Data Shape:\", data.shape)\n",
    "print(\"Test Data Shape:\", test.shape)\n",
    "\n",
    "# This is to see the first lines of the train data\n",
    "data.head()\n"
   ]
  },
  {
   "cell_type": "code",
   "execution_count": null,
   "metadata": {
    "colab": {
     "base_uri": "https://localhost:8080/",
     "height": 292
    },
    "id": "s4KVEru7yXAr",
    "outputId": "f36ef286-a240-46e0-9c75-d06a0366dc79"
   },
   "outputs": [],
   "source": [
    "# drop the column in both `test` and `data` frames\n",
    "\n",
    "data.drop([\"id\"], axis = 1, inplace=True)\n",
    "test.drop([\"id\"], axis = 1, inplace=True)\n",
    "\n",
    "# drop rows entries of na in both test and data frames\n",
    "...\n",
    "\n",
    "# hint: https://pandas.pydata.org/pandas-docs/stable/reference/api/pandas.DataFrame.dropna.html\n",
    "test.head()"
   ]
  },
  {
   "cell_type": "code",
   "execution_count": null,
   "metadata": {
    "id": "B10-Wgf8yeiS"
   },
   "outputs": [],
   "source": [
    "# prepare features X and labels y for the training set `data`\n",
    "# for X use the `data` frame and remove the 'class' column\n",
    "# for y use the `data` frame and remove the 'class' column \n",
    "\n",
    "...\n"
   ]
  },
  {
   "cell_type": "markdown",
   "metadata": {
    "id": "svpTQpda--Ri"
   },
   "source": [
    "## Signal and Background Comparison"
   ]
  },
  {
   "cell_type": "code",
   "execution_count": null,
   "metadata": {
    "colab": {
     "base_uri": "https://localhost:8080/",
     "height": 329
    },
    "id": "RaefpT8zYm2k",
    "outputId": "fde5a8f0-8e50-4df4-c293-8b98420bcc37"
   },
   "outputs": [],
   "source": [
    "# check the frequency of labels present in the training set\n",
    "\n",
    "value_counts = ...\n",
    "\n",
    "sns.barplot(x = value_counts.index, y = value_counts.values)\n",
    "plt.title('Label counts')\n",
    "plt.show()"
   ]
  },
  {
   "cell_type": "code",
   "execution_count": null,
   "metadata": {},
   "outputs": [],
   "source": [
    "# check the frequency of labels in the test set\n",
    "\n",
    "...\n"
   ]
  },
  {
   "cell_type": "code",
   "execution_count": null,
   "metadata": {
    "id": "YmmUSB3eyxjf"
   },
   "outputs": [],
   "source": [
    "# use the train_test_split function to create a 80-20 split of `data`\n",
    "x_train, x_val, y_train, y_val = ...\n",
    "\n",
    "# create the test set by dropping the \"class\" column from `test`\n",
    "x_test, y_test = \n"
   ]
  },
  {
   "cell_type": "code",
   "execution_count": null,
   "metadata": {
    "colab": {
     "base_uri": "https://localhost:8080/"
    },
    "id": "oZwI_UlQy3Q6",
    "outputId": "f37e0a94-d849-475f-e08b-14fd44a3e4b8"
   },
   "outputs": [],
   "source": [
    "# train the classifier\n",
    "tree_classifier = DecisionTreeClassifier()\n",
    "tree_classifier = tree_classifier.fit(X=x_train, y= y_train)\n",
    "\n",
    "# produce predictions for the training set and the test set\n",
    "train_predictions = tree_classifier.predict(x_train)\n",
    "test_predictions = tree_classifier.predict(x_test)"
   ]
  },
  {
   "cell_type": "code",
   "execution_count": null,
   "metadata": {
    "colab": {
     "base_uri": "https://localhost:8080/"
    },
    "id": "oZwI_UlQy3Q6",
    "outputId": "f37e0a94-d849-475f-e08b-14fd44a3e4b8"
   },
   "outputs": [],
   "source": [
    "### Train data accuracy\n",
    "from sklearn.metrics import accuracy_score, f1_score\n",
    "\n",
    "# print the accuracy scores for the train and the test set"
   ]
  },
  {
   "cell_type": "code",
   "execution_count": null,
   "metadata": {
    "colab": {
     "base_uri": "https://localhost:8080/"
    },
    "id": "oZwI_UlQy3Q6",
    "outputId": "f37e0a94-d849-475f-e08b-14fd44a3e4b8"
   },
   "outputs": [],
   "source": [
    "# print the f1 scores for the train and the test set\n",
    "..."
   ]
  },
  {
   "cell_type": "code",
   "execution_count": null,
   "metadata": {
    "colab": {
     "base_uri": "https://localhost:8080/",
     "height": 1000
    },
    "id": "hNc5_8_tjyh8",
    "outputId": "8331f6e8-e6fd-45c8-bf98-314eca796899"
   },
   "outputs": [],
   "source": [
    "plt.figure(figsize=(20,14)) #To control the fig size, otherwise is very small\n",
    "plot_tree(tree_classifier, max_depth=2)"
   ]
  },
  {
   "cell_type": "markdown",
   "metadata": {
    "id": "-M3SxVTXgdPq"
   },
   "source": [
    "### Questions\n",
    "\n",
    "- In what cases is the accuracy score not a good measure of our data?\n",
    "\n",
    "- Why is the accuracy for train 100%?"
   ]
  },
  {
   "cell_type": "markdown",
   "metadata": {
    "id": "QbZsHUKsjEod"
   },
   "source": [
    "When the data is imbalanced, meaning the number of observations is different for the different classes"
   ]
  },
  {
   "cell_type": "markdown",
   "metadata": {
    "id": "vVNcoti3jXGu"
   },
   "source": [
    "Because the model has learned all of it. Notice that because the model hasn't seen the test data, it's accuracy is lower"
   ]
  },
  {
   "cell_type": "markdown",
   "metadata": {
    "id": "_bCo0N4klxSn"
   },
   "source": [
    "# Pruning\n",
    "\n",
    "We saw that test accuracy reaches 64%. But we would like to go higher. Take the `ccp_alpha` parameter of the decision tree object and increase it by 1e-5 until you reach an accuracy of 68.5%! "
   ]
  },
  {
   "cell_type": "code",
   "execution_count": null,
   "metadata": {
    "colab": {
     "base_uri": "https://localhost:8080/"
    },
    "id": "1YKdN14Jo7Ei",
    "outputId": "dfb338d9-3f4a-4c1f-89db-138cf5690d2a"
   },
   "outputs": [],
   "source": [
    "acc_val = 0\n",
    "ccp_alpha=0.0000\n",
    "acc_val_target = 0.685\n",
    "while(acc_val < acc_val_target):\n",
    "  ...\n",
    "\n",
    "print(f\"Optimized ccp_alpha: {ccp_alpha}\")"
   ]
  }
 ],
 "metadata": {
  "colab": {
   "provenance": [],
   "toc_visible": true
  },
  "kernelspec": {
   "display_name": "Python 3 (ipykernel)",
   "language": "python",
   "name": "python3"
  },
  "language_info": {
   "codemirror_mode": {
    "name": "ipython",
    "version": 3
   },
   "file_extension": ".py",
   "mimetype": "text/x-python",
   "name": "python",
   "nbconvert_exporter": "python",
   "pygments_lexer": "ipython3",
   "version": "3.11.6"
  }
 },
 "nbformat": 4,
 "nbformat_minor": 1
}
